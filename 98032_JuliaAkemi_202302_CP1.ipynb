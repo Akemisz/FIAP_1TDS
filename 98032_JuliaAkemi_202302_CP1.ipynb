{
 "cells": [
  {
   "cell_type": "markdown",
   "metadata": {},
   "source": [
    "Importando as bibliotecas necessárias para execução do código"
   ]
  },
  {
   "cell_type": "code",
   "execution_count": null,
   "metadata": {},
   "outputs": [],
   "source": [
    "import seaborn as sns\n",
    "import numpy as np\n",
    "import matplotlib.pyplot as plt\n",
    "import pandas as pd"
   ]
  },
  {
   "cell_type": "markdown",
   "metadata": {},
   "source": [
    "Determinando variáveis do conjunto de dados que foram devidamente escolhidos"
   ]
  },
  {
   "cell_type": "code",
   "execution_count": null,
   "metadata": {},
   "outputs": [],
   "source": [
    "data = pd.read_csv('/content/drive/MyDrive/Dataset/top_animes.csv')\n",
    "origem = \"kaggle.com\"\n",
    "name = data['Rank']\n",
    "size = data.shape\n",
    "quant_registros = data.shape[0]\n",
    "linhas_and_colunas = data.shape\n",
    "dados_notfound = data.isnull().sum()\n"
   ]
  },
  {
   "cell_type": "markdown",
   "metadata": {},
   "source": [
    "Descrevendo variaveis numéricas de estatisticas do grafico e determinando o nome de cada uma delas "
   ]
  },
  {
   "cell_type": "code",
   "execution_count": null,
   "metadata": {},
   "outputs": [],
   "source": [
    "variancia = data['Score'].var()\n",
    "variancia = data['Rank'].var()\n",
    "\n",
    "media = data['Score'].mean()\n",
    "media = data['Rank'].mean()"
   ]
  },
  {
   "cell_type": "code",
   "execution_count": null,
   "metadata": {},
   "outputs": [],
   "source": [
    "desvio = data['Score'].std()\n",
    "desvio = data['Rank'].std()\n",
    "\n",
    "mediana = data['Score'].median()\n",
    "mediana = data['Rank'].median()"
   ]
  },
  {
   "cell_type": "markdown",
   "metadata": {},
   "source": [
    "Criando o histograma e Scatter plot determinando o tamanho, x y  "
   ]
  },
  {
   "cell_type": "code",
   "execution_count": null,
   "metadata": {},
   "outputs": [],
   "source": [
    "plt.figure(figsize=(9, 6))\n",
    "sns.histplot(data=data, x=data['Score'], bins=100)\n",
    "plt.title('Score')\n",
    "plt.xlabel('Rank')\n",
    "plt.ylabel('Score')\n",
    "plt.show()"
   ]
  },
  {
   "cell_type": "code",
   "execution_count": null,
   "metadata": {},
   "outputs": [],
   "source": [
    "plt.figure(figsize=(9, 4))\n",
    "sns.scatterplot(data=data, x='Rank', y='Score')\n",
    "plt.title('Plot de animes com duas variaveis inclusas')\n",
    "plt.xlabel('Rank')\n",
    "plt.show()"
   ]
  }
 ],
 "metadata": {
  "kernelspec": {
   "display_name": "Python 3",
   "language": "python",
   "name": "python3"
  },
  "language_info": {
   "name": "python",
   "version": "3.10.11"
  },
  "orig_nbformat": 4
 },
 "nbformat": 4,
 "nbformat_minor": 2
}
